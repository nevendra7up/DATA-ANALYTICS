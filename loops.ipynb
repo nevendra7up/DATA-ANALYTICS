{
 "cells": [
  {
   "cell_type": "code",
   "execution_count": null,
   "metadata": {},
   "outputs": [],
   "source": [
    "fruits=['APPLE','BANANA','LEMON']\n",
    "for items in fruits:\n",
    "    print(f'i have {items}')"
   ]
  },
  {
   "cell_type": "code",
   "execution_count": null,
   "metadata": {},
   "outputs": [],
   "source": [
    "for i in range(5):\n",
    "    print('you got point',i)"
   ]
  },
  {
   "cell_type": "code",
   "execution_count": null,
   "metadata": {},
   "outputs": [],
   "source": [
    "for i in range(2,11):\n",
    "    print('marks = ',i)"
   ]
  },
  {
   "cell_type": "code",
   "execution_count": null,
   "metadata": {},
   "outputs": [],
   "source": [
    "for num in range(1,10,3):\n",
    "    print('Level',num)"
   ]
  },
  {
   "cell_type": "code",
   "execution_count": null,
   "metadata": {},
   "outputs": [],
   "source": [
    "for i in range(10,5,-1):\n",
    "    print(i)"
   ]
  },
  {
   "cell_type": "code",
   "execution_count": null,
   "metadata": {},
   "outputs": [],
   "source": [
    "for i in range(10):\n",
    "    print(i * 'NA')"
   ]
  },
  {
   "cell_type": "code",
   "execution_count": null,
   "metadata": {},
   "outputs": [],
   "source": [
    "for nums in range(1,101):\n",
    "    if(num%3==0 and num%5==0):\n",
    "        print(num)"
   ]
  },
  {
   "cell_type": "code",
   "execution_count": null,
   "metadata": {},
   "outputs": [],
   "source": [
    "places=['Paris','London','New York','Madrid','Rome']\n",
    "for place in places:\n",
    "    print(f'{place} contains {len(place)} character')"
   ]
  },
  {
   "cell_type": "code",
   "execution_count": null,
   "metadata": {},
   "outputs": [],
   "source": [
    "x=[1,2,4,1,1,1,3,4,6,6,5,8,9,0,1,1,1,1,5,6,4]\n",
    "c=0\n",
    "for i in x:\n",
    "    if i==1:\n",
    "        c+=1\n",
    "print(c)\n",
    "\n"
   ]
  },
  {
   "cell_type": "markdown",
   "metadata": {},
   "source": [
    "# WHILE LOOP"
   ]
  },
  {
   "cell_type": "code",
   "execution_count": null,
   "metadata": {},
   "outputs": [],
   "source": [
    "x=1\n",
    "while(x<10):\n",
    "    print('Running')\n",
    "    x+=1\n",
    "print('Stop')"
   ]
  },
  {
   "cell_type": "code",
   "execution_count": null,
   "metadata": {},
   "outputs": [],
   "source": [
    "n=10\n",
    "total=0\n",
    "i=1\n",
    "while i<=n:\n",
    "    total=total+i\n",
    "    i=i+1\n",
    "print(\"the sum is \",total)"
   ]
  },
  {
   "cell_type": "code",
   "execution_count": null,
   "metadata": {},
   "outputs": [],
   "source": [
    "while input('continue ?')=='y':\n",
    "    print('You continue this loop')"
   ]
  },
  {
   "cell_type": "code",
   "execution_count": null,
   "metadata": {},
   "outputs": [],
   "source": [
    "while len(input(\"name a place : \"))>0:\n",
    "    print('you enter a place')"
   ]
  },
  {
   "cell_type": "code",
   "execution_count": 39,
   "metadata": {},
   "outputs": [
    {
     "name": "stdout",
     "output_type": "stream",
     "text": [
      "100\n",
      "99\n",
      "98\n",
      "97\n"
     ]
    }
   ],
   "source": [
    "num=int(input('enter a num : '))\n",
    "while(num>0):\n",
    "    if num %24==0:\n",
    "        break\n",
    "    print(num)\n",
    "    num-=1"
   ]
  },
  {
   "cell_type": "code",
   "execution_count": 49,
   "metadata": {},
   "outputs": [],
   "source": [
    "story=\"\"\n",
    "while True:\n",
    "    line=input('enter a line')\n",
    "    if line==\"\":\n",
    "        break\n",
    "    story+=line+'\\n'"
   ]
  },
  {
   "cell_type": "code",
   "execution_count": 50,
   "metadata": {},
   "outputs": [
    {
     "name": "stdout",
     "output_type": "stream",
     "text": [
      "once upon a time.\n",
      "best.\n",
      "better\n",
      "good\n",
      "\n"
     ]
    }
   ],
   "source": [
    "print(story)"
   ]
  },
  {
   "cell_type": "code",
   "execution_count": 52,
   "metadata": {},
   "outputs": [
    {
     "name": "stdout",
     "output_type": "stream",
     "text": [
      "8\n",
      "6\n",
      "8\n",
      "8\n",
      "6\n",
      "8\n",
      "7\n",
      "56\n",
      "4\n",
      "4\n",
      "6\n",
      "78\n",
      "89\n",
      "9\n",
      "7\n",
      "90\n"
     ]
    }
   ],
   "source": [
    "v=[0,8,6,8,0,8,6,8,0,7,56,4,4,6,78,89,0,9,7,90,0,0]\n",
    "for i in v:\n",
    "    if i==0:\n",
    "        continue\n",
    "    print(i)"
   ]
  },
  {
   "cell_type": "code",
   "execution_count": 53,
   "metadata": {},
   "outputs": [
    {
     "name": "stdout",
     "output_type": "stream",
     "text": [
      "we have APPLE\n",
      "we have BANANA\n",
      "we have LEMON\n",
      "thats all\n"
     ]
    }
   ],
   "source": [
    "for fruit in fruits:\n",
    "    print('we have',fruit)\n",
    "else:\n",
    "    print('thats all')"
   ]
  },
  {
   "cell_type": "code",
   "execution_count": 57,
   "metadata": {},
   "outputs": [
    {
     "name": "stdout",
     "output_type": "stream",
     "text": [
      "looking at Tomato\n",
      "looking at Onion\n",
      "looking at Cucumber\n",
      "looking at Potato\n",
      "Potato found\n"
     ]
    }
   ],
   "source": [
    "vegs=['Tomato','Onion','Cucumber','Potato']\n",
    "for veg in vegs:\n",
    "    print(f'looking at {veg}')\n",
    "    if veg=='Potato':\n",
    "        print('Potato found')\n",
    "        break\n",
    "else:\n",
    "    print('Potato not found')"
   ]
  },
  {
   "cell_type": "code",
   "execution_count": 73,
   "metadata": {},
   "outputs": [
    {
     "name": "stdout",
     "output_type": "stream",
     "text": [
      "97 is a prime number\n"
     ]
    }
   ],
   "source": [
    "num=int(input('enter a number : '))\n",
    "for i in range(2,num):\n",
    "    if num%i==0:\n",
    "        print(f'{num} is not a prime number')\n",
    "        break\n",
    "else:\n",
    "    print(f'{num} is a prime number')"
   ]
  },
  {
   "cell_type": "markdown",
   "metadata": {},
   "source": [
    "# ENUMERATE"
   ]
  },
  {
   "cell_type": "code",
   "execution_count": 76,
   "metadata": {},
   "outputs": [
    {
     "name": "stdout",
     "output_type": "stream",
     "text": [
      "0 Tomato\n",
      "1 Onion\n",
      "2 Cucumber\n",
      "3 Potato\n"
     ]
    }
   ],
   "source": [
    "for idx,val in enumerate(vegs):\n",
    "    print(idx,val)"
   ]
  },
  {
   "cell_type": "markdown",
   "metadata": {},
   "source": [
    "# ZIP"
   ]
  },
  {
   "cell_type": "code",
   "execution_count": 78,
   "metadata": {},
   "outputs": [
    {
     "name": "stdout",
     "output_type": "stream",
     "text": [
      "14 16 16 17 19 21 "
     ]
    }
   ],
   "source": [
    "a=[3,5,6,7,8,9]\n",
    "b=[7,6,4,3,3,3]\n",
    "c=[4,5,6,7,8,9]\n",
    "\n",
    "for i,j,k in zip(a,b,c):\n",
    "    print(i+j+k, end=' ')"
   ]
  },
  {
   "cell_type": "code",
   "execution_count": null,
   "metadata": {},
   "outputs": [],
   "source": []
  }
 ],
 "metadata": {
  "interpreter": {
   "hash": "cf1d1df4f5e6daf533c44fe492b7c8add0dff96490123c28c0cad0a988bb7769"
  },
  "kernelspec": {
   "display_name": "Python 3.9.12 ('base')",
   "language": "python",
   "name": "python3"
  },
  "language_info": {
   "codemirror_mode": {
    "name": "ipython",
    "version": 3
   },
   "file_extension": ".py",
   "mimetype": "text/x-python",
   "name": "python",
   "nbconvert_exporter": "python",
   "pygments_lexer": "ipython3",
   "version": "3.9.12"
  },
  "orig_nbformat": 4
 },
 "nbformat": 4,
 "nbformat_minor": 2
}
