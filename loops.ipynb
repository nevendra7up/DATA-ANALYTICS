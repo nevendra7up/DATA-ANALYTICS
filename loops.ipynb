{
 "cells": [
  {
   "cell_type": "code",
   "execution_count": 1,
   "metadata": {},
   "outputs": [
    {
     "name": "stdout",
     "output_type": "stream",
     "text": [
      "i have APPLE\n",
      "i have BANANA\n",
      "i have LEMON\n"
     ]
    }
   ],
   "source": [
    "fruits=['APPLE','BANANA','LEMON']\n",
    "for items in fruits:\n",
    "    print(f'i have {items}')"
   ]
  },
  {
   "cell_type": "code",
   "execution_count": 2,
   "metadata": {},
   "outputs": [
    {
     "name": "stdout",
     "output_type": "stream",
     "text": [
      "you got point 0\n",
      "you got point 1\n",
      "you got point 2\n",
      "you got point 3\n",
      "you got point 4\n"
     ]
    }
   ],
   "source": [
    "for i in range(5):\n",
    "    print('you got point',i)"
   ]
  },
  {
   "cell_type": "code",
   "execution_count": 3,
   "metadata": {},
   "outputs": [
    {
     "name": "stdout",
     "output_type": "stream",
     "text": [
      "marks =  2\n",
      "marks =  3\n",
      "marks =  4\n",
      "marks =  5\n",
      "marks =  6\n",
      "marks =  7\n",
      "marks =  8\n",
      "marks =  9\n",
      "marks =  10\n"
     ]
    }
   ],
   "source": [
    "for i in range(2,11):\n",
    "    print('marks = ',i)"
   ]
  },
  {
   "cell_type": "code",
   "execution_count": 4,
   "metadata": {},
   "outputs": [
    {
     "name": "stdout",
     "output_type": "stream",
     "text": [
      "Level 1\n",
      "Level 4\n",
      "Level 7\n"
     ]
    }
   ],
   "source": [
    "for num in range(1,10,3):\n",
    "    print('Level',num)"
   ]
  },
  {
   "cell_type": "code",
   "execution_count": 5,
   "metadata": {},
   "outputs": [
    {
     "name": "stdout",
     "output_type": "stream",
     "text": [
      "10\n",
      "9\n",
      "8\n",
      "7\n",
      "6\n"
     ]
    }
   ],
   "source": [
    "for i in range(10,5,-1):\n",
    "    print(i)"
   ]
  },
  {
   "cell_type": "code",
   "execution_count": 6,
   "metadata": {},
   "outputs": [
    {
     "name": "stdout",
     "output_type": "stream",
     "text": [
      "\n",
      "NA\n",
      "NANA\n",
      "NANANA\n",
      "NANANANA\n",
      "NANANANANA\n",
      "NANANANANANA\n",
      "NANANANANANANA\n",
      "NANANANANANANANA\n",
      "NANANANANANANANANA\n"
     ]
    }
   ],
   "source": [
    "for i in range(10):\n",
    "    print(i * 'NA')"
   ]
  },
  {
   "cell_type": "code",
   "execution_count": 8,
   "metadata": {},
   "outputs": [],
   "source": [
    "for nums in range(1,101):\n",
    "    if(num%3==0 and num%5==0):\n",
    "        print(num)"
   ]
  },
  {
   "cell_type": "code",
   "execution_count": 9,
   "metadata": {},
   "outputs": [
    {
     "name": "stdout",
     "output_type": "stream",
     "text": [
      "Paris contains 5 character\n",
      "London contains 6 character\n",
      "New York contains 8 character\n",
      "Madrid contains 6 character\n",
      "Rome contains 4 character\n"
     ]
    }
   ],
   "source": [
    "places=['Paris','London','New York','Madrid','Rome']\n",
    "for place in places:\n",
    "    print(f'{place} contains {len(place)} character')"
   ]
  },
  {
   "cell_type": "code",
   "execution_count": 21,
   "metadata": {},
   "outputs": [
    {
     "name": "stdout",
     "output_type": "stream",
     "text": [
      "8\n"
     ]
    }
   ],
   "source": [
    "x=[1,2,4,1,1,1,3,4,6,6,5,8,9,0,1,1,1,1,5,6,4]\n",
    "c=0\n",
    "for i in x:\n",
    "    if i==1:\n",
    "        c+=1\n",
    "print(c)\n",
    "\n"
   ]
  }
 ],
 "metadata": {
  "interpreter": {
   "hash": "cf1d1df4f5e6daf533c44fe492b7c8add0dff96490123c28c0cad0a988bb7769"
  },
  "kernelspec": {
   "display_name": "Python 3.9.12 ('base')",
   "language": "python",
   "name": "python3"
  },
  "language_info": {
   "codemirror_mode": {
    "name": "ipython",
    "version": 3
   },
   "file_extension": ".py",
   "mimetype": "text/x-python",
   "name": "python",
   "nbconvert_exporter": "python",
   "pygments_lexer": "ipython3",
   "version": "3.9.12"
  },
  "orig_nbformat": 4
 },
 "nbformat": 4,
 "nbformat_minor": 2
}
