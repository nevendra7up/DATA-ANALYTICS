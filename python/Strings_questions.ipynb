{
 "cells": [
  {
   "cell_type": "code",
   "execution_count": 25,
   "metadata": {},
   "outputs": [
    {
     "name": "stdout",
     "output_type": "stream",
     "text": [
      "3\n"
     ]
    }
   ],
   "source": [
    "j=0\n",
    "n='nevendra'\n",
    "for i in 'aeiouAEIOU':\n",
    "    sum=n.count(i)\n",
    "    j=sum+j\n",
    "print(j)"
   ]
  },
  {
   "cell_type": "code",
   "execution_count": 26,
   "metadata": {},
   "outputs": [
    {
     "name": "stdout",
     "output_type": "stream",
     "text": [
      " nevendra => 1\n"
     ]
    }
   ],
   "source": [
    "msg=input(\"enter your message : \")\n",
    "words=set(msg.split())\n",
    "for w in words:\n",
    "    c=msg.count(w)\n",
    "    print(f' {w} => {c}')"
   ]
  },
  {
   "cell_type": "code",
   "execution_count": 56,
   "metadata": {},
   "outputs": [
    {
     "name": "stdout",
     "output_type": "stream",
     "text": [
      "is found at position 2\n",
      "is found at position 5\n",
      "is found at position 40\n",
      "is found at position 49\n",
      "is found at position 67\n",
      "is found at position 93\n"
     ]
    }
   ],
   "source": [
    "story='''This is an example of another story, \n",
    "this story is not simple and is \n",
    "not very long, but it is a story'''\n",
    "\n",
    "q=input('enter search term: ')\n",
    "start=0\n",
    "while(True):\n",
    "    idx=story.find(q,start)\n",
    "    if idx==-1:\n",
    "        break\n",
    "    print(f'{q} found at position {idx}')\n",
    "    start=idx+1"
   ]
  },
  {
   "cell_type": "code",
   "execution_count": 62,
   "metadata": {},
   "outputs": [
    {
     "name": "stdout",
     "output_type": "stream",
     "text": [
      "Th3s 3s 1n 2x1mpl2 4f 1n4th2r st4ry, \n",
      "th3s st4ry 3s n4t s3mpl2 1nd 3s \n",
      "n4t v2ry l4ng, b5t 3t 3s 1 st4ry\n"
     ]
    }
   ],
   "source": [
    "story='''This is an example of another story, \n",
    "this story is not simple and is \n",
    "not very long, but it is a story'''\n",
    "\n",
    "for v in 'aeiouAEIOU':\n",
    "    if v=='a' or v=='A':\n",
    "        story=story.replace(v,'1')\n",
    "    if v=='e' or v=='E':\n",
    "        story=story.replace(v,'2')\n",
    "    if v=='i' or v=='I':\n",
    "        story=story.replace(v,'3')\n",
    "    if v=='o' or v=='O':\n",
    "        story=story.replace(v,'4')\n",
    "    if v=='u' or v=='U':\n",
    "        story=story.replace(v,'5')\n",
    "print(story)"
   ]
  },
  {
   "cell_type": "code",
   "execution_count": 24,
   "metadata": {},
   "outputs": [
    {
     "name": "stdout",
     "output_type": "stream",
     "text": [
      "3\n"
     ]
    }
   ],
   "source": [
    "j=0\n",
    "n='nevendra'\n",
    "for i in 'aeiouAEIOU':\n",
    "    sum=n.count(i)\n",
    "    j=sum+j\n",
    "print(j)"
   ]
  },
  {
   "cell_type": "code",
   "execution_count": null,
   "metadata": {},
   "outputs": [],
   "source": []
  }
 ],
 "metadata": {
  "kernelspec": {
   "display_name": "Python 3.9.12 ('base')",
   "language": "python",
   "name": "python3"
  },
  "language_info": {
   "codemirror_mode": {
    "name": "ipython",
    "version": 3
   },
   "file_extension": ".py",
   "mimetype": "text/x-python",
   "name": "python",
   "nbconvert_exporter": "python",
   "pygments_lexer": "ipython3",
   "version": "3.9.12"
  },
  "orig_nbformat": 4,
  "vscode": {
   "interpreter": {
    "hash": "cf1d1df4f5e6daf533c44fe492b7c8add0dff96490123c28c0cad0a988bb7769"
   }
  }
 },
 "nbformat": 4,
 "nbformat_minor": 2
}
