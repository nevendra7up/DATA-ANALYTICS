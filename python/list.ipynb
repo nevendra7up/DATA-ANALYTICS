{
 "cells": [
  {
   "cell_type": "markdown",
   "metadata": {},
   "source": [
    "# DATA STRUCTURES\n",
    "# LIST\n",
    "   -  indexed structures\n",
    "   - mutable\n",
    "   - ordered\n",
    "   - can contain duplicates\n",
    "   - hetrogeneous values\n",
    "   - can be nested\n",
    "   - `list()` is the function to convert other iterables to lits\n",
    "   - list has 11 method"
   ]
  },
  {
   "cell_type": "code",
   "execution_count": 51,
   "metadata": {},
   "outputs": [
    {
     "name": "stdout",
     "output_type": "stream",
     "text": [
      "['Avatar', 'Titanic', 'Star wars', 'The matrix', 'Incredible']\n"
     ]
    }
   ],
   "source": [
    "movies=['Avatar','Titanic','Star wars','The matrix','Incredible']\n",
    "print(movies)"
   ]
  },
  {
   "cell_type": "code",
   "execution_count": 52,
   "metadata": {},
   "outputs": [
    {
     "data": {
      "text/plain": [
       "'Avatar'"
      ]
     },
     "execution_count": 52,
     "metadata": {},
     "output_type": "execute_result"
    }
   ],
   "source": [
    "movies[0]"
   ]
  },
  {
   "cell_type": "code",
   "execution_count": 53,
   "metadata": {},
   "outputs": [
    {
     "data": {
      "text/plain": [
       "'Titanic'"
      ]
     },
     "execution_count": 53,
     "metadata": {},
     "output_type": "execute_result"
    }
   ],
   "source": [
    "movies[1]"
   ]
  },
  {
   "cell_type": "code",
   "execution_count": 54,
   "metadata": {},
   "outputs": [
    {
     "data": {
      "text/plain": [
       "'The matrix'"
      ]
     },
     "execution_count": 54,
     "metadata": {},
     "output_type": "execute_result"
    }
   ],
   "source": [
    "movies[3]"
   ]
  },
  {
   "cell_type": "code",
   "execution_count": 55,
   "metadata": {},
   "outputs": [
    {
     "data": {
      "text/plain": [
       "'Incredible'"
      ]
     },
     "execution_count": 55,
     "metadata": {},
     "output_type": "execute_result"
    }
   ],
   "source": [
    "movies[4]"
   ]
  },
  {
   "cell_type": "code",
   "execution_count": 56,
   "metadata": {},
   "outputs": [],
   "source": [
    "movies[1]='Avengers'"
   ]
  },
  {
   "cell_type": "code",
   "execution_count": 57,
   "metadata": {},
   "outputs": [
    {
     "data": {
      "text/plain": [
       "['Avatar', 'Avengers', 'Star wars', 'The matrix', 'Incredible']"
      ]
     },
     "execution_count": 57,
     "metadata": {},
     "output_type": "execute_result"
    }
   ],
   "source": [
    "movies"
   ]
  },
  {
   "cell_type": "code",
   "execution_count": 58,
   "metadata": {},
   "outputs": [
    {
     "data": {
      "text/plain": [
       "'Incredible'"
      ]
     },
     "execution_count": 58,
     "metadata": {},
     "output_type": "execute_result"
    }
   ],
   "source": [
    "movies[-1]"
   ]
  },
  {
   "cell_type": "code",
   "execution_count": 59,
   "metadata": {},
   "outputs": [
    {
     "data": {
      "text/plain": [
       "['The matrix', 'Incredible']"
      ]
     },
     "execution_count": 59,
     "metadata": {},
     "output_type": "execute_result"
    }
   ],
   "source": [
    "movies[-2:]"
   ]
  },
  {
   "cell_type": "code",
   "execution_count": 60,
   "metadata": {},
   "outputs": [
    {
     "data": {
      "text/plain": [
       "['Incredible', 'The matrix', 'Star wars', 'Avengers', 'Avatar']"
      ]
     },
     "execution_count": 60,
     "metadata": {},
     "output_type": "execute_result"
    }
   ],
   "source": [
    "movies[::-1]"
   ]
  },
  {
   "cell_type": "code",
   "execution_count": 61,
   "metadata": {},
   "outputs": [
    {
     "name": "stdout",
     "output_type": "stream",
     "text": [
      "i watch Avatar\n",
      "i watch Avengers\n",
      "i watch Star wars\n",
      "i watch The matrix\n",
      "i watch Incredible\n"
     ]
    }
   ],
   "source": [
    "for m in movies:\n",
    "    print(f'i watch {m}')"
   ]
  },
  {
   "cell_type": "code",
   "execution_count": 62,
   "metadata": {},
   "outputs": [
    {
     "name": "stdout",
     "output_type": "stream",
     "text": [
      "[1, 1, 1, 1, 1, 1, 1, 1, 1, 1]\n"
     ]
    }
   ],
   "source": [
    "#duplicate\n",
    "x=[1]*10\n",
    "print(x)"
   ]
  },
  {
   "cell_type": "code",
   "execution_count": 63,
   "metadata": {},
   "outputs": [
    {
     "data": {
      "text/plain": [
       "[1, 2, 3, 4, 5, 6, 7, 8, 9, 10]"
      ]
     },
     "execution_count": 63,
     "metadata": {},
     "output_type": "execute_result"
    }
   ],
   "source": [
    "a=[1,2,3,4,5]\n",
    "b=[6,7,8,9,10]\n",
    "a+b"
   ]
  },
  {
   "cell_type": "code",
   "execution_count": 64,
   "metadata": {},
   "outputs": [
    {
     "data": {
      "text/plain": [
       "[0, 11, 34, 56, 56, 78, 90, 99, 100]"
      ]
     },
     "execution_count": 64,
     "metadata": {},
     "output_type": "execute_result"
    }
   ],
   "source": [
    "z=[11,56,78,34,56,90,99,100,0]\n",
    "sorted(z)"
   ]
  },
  {
   "cell_type": "code",
   "execution_count": 65,
   "metadata": {},
   "outputs": [
    {
     "data": {
      "text/plain": [
       "['Avatar', 'Avengers', 'Incredible', 'Star wars', 'The matrix']"
      ]
     },
     "execution_count": 65,
     "metadata": {},
     "output_type": "execute_result"
    }
   ],
   "source": [
    "sorted(movies)"
   ]
  },
  {
   "cell_type": "code",
   "execution_count": 66,
   "metadata": {},
   "outputs": [
    {
     "data": {
      "text/plain": [
       "524"
      ]
     },
     "execution_count": 66,
     "metadata": {},
     "output_type": "execute_result"
    }
   ],
   "source": [
    "sum(z)"
   ]
  },
  {
   "cell_type": "code",
   "execution_count": 67,
   "metadata": {},
   "outputs": [
    {
     "data": {
      "text/plain": [
       "100"
      ]
     },
     "execution_count": 67,
     "metadata": {},
     "output_type": "execute_result"
    }
   ],
   "source": [
    "max(z)"
   ]
  },
  {
   "cell_type": "code",
   "execution_count": 68,
   "metadata": {},
   "outputs": [
    {
     "data": {
      "text/plain": [
       "0"
      ]
     },
     "execution_count": 68,
     "metadata": {},
     "output_type": "execute_result"
    }
   ],
   "source": [
    "min(z)"
   ]
  },
  {
   "cell_type": "code",
   "execution_count": 69,
   "metadata": {},
   "outputs": [
    {
     "data": {
      "text/plain": [
       "9"
      ]
     },
     "execution_count": 69,
     "metadata": {},
     "output_type": "execute_result"
    }
   ],
   "source": [
    "len(z)"
   ]
  },
  {
   "cell_type": "code",
   "execution_count": 70,
   "metadata": {},
   "outputs": [
    {
     "name": "stdout",
     "output_type": "stream",
     "text": [
      "58.22\n"
     ]
    }
   ],
   "source": [
    "print(\"{:.2f}\".format(sum(z)/len(z)))"
   ]
  },
  {
   "cell_type": "markdown",
   "metadata": {},
   "source": [
    "# METHODS OF LIST\n",
    "   - adding items in list\n",
    "       - append()\n",
    "       - inset()\n",
    "       - extend()\n",
    "   - removing items in list\n",
    "       - pop()\n",
    "       - remove()\n",
    "       - clear()\n",
    "   - utility function\n",
    "        - sort()\n",
    "        - reversed()\n",
    "        - index()\n",
    "        - count()\n",
    "        - copy()\n",
    "   "
   ]
  },
  {
   "cell_type": "code",
   "execution_count": 71,
   "metadata": {},
   "outputs": [],
   "source": [
    "books=['The final empire',\n",
    "        'The well of ascension',\n",
    "        'The hero of ages',\n",
    "        'Steelheart',\n",
    "        'Legion',\n",
    "        'Firefight',\n",
    "        'Calamity',\n",
    "        'Way of the kings',\n",
    "        'word of radiance'\n",
    "        'Oathbringer',\n",
    "        'The rythm of war',\n",
    "        'Warbreaker',\n",
    "        'The Rithmatist']"
   ]
  },
  {
   "cell_type": "code",
   "execution_count": 72,
   "metadata": {},
   "outputs": [],
   "source": [
    "books.append('legion: SKin deep')"
   ]
  },
  {
   "cell_type": "code",
   "execution_count": 73,
   "metadata": {},
   "outputs": [
    {
     "data": {
      "text/plain": [
       "['The final empire',\n",
       " 'The well of ascension',\n",
       " 'The hero of ages',\n",
       " 'Steelheart',\n",
       " 'Legion',\n",
       " 'Firefight',\n",
       " 'Calamity',\n",
       " 'Way of the kings',\n",
       " 'word of radianceOathbringer',\n",
       " 'The rythm of war',\n",
       " 'Warbreaker',\n",
       " 'The Rithmatist',\n",
       " 'legion: SKin deep',\n",
       " 'Elanris',\n",
       " 'White send',\n",
       " 'Firstbond',\n",
       " ['apple', 'banana', 'oranges']]"
      ]
     },
     "execution_count": 73,
     "metadata": {},
     "output_type": "execute_result"
    }
   ],
   "source": [
    "books.append('Elanris')\n",
    "books.append('White send')\n",
    "books.append('Firstbond')\n",
    "books.append(['apple','banana','oranges'])\n",
    "books"
   ]
  },
  {
   "cell_type": "code",
   "execution_count": 74,
   "metadata": {},
   "outputs": [],
   "source": [
    "books.insert(5,'Mitosis')"
   ]
  },
  {
   "cell_type": "code",
   "execution_count": 76,
   "metadata": {},
   "outputs": [],
   "source": [
    "books[17][1]='pineapple'"
   ]
  },
  {
   "cell_type": "code",
   "execution_count": 77,
   "metadata": {},
   "outputs": [],
   "source": [
    "worst_books=['The states','The white tigers','The twilight Saga : The new moon']"
   ]
  },
  {
   "cell_type": "code",
   "execution_count": 78,
   "metadata": {},
   "outputs": [],
   "source": [
    "books.extend(worst_books)"
   ]
  },
  {
   "cell_type": "code",
   "execution_count": 79,
   "metadata": {},
   "outputs": [
    {
     "data": {
      "text/plain": [
       "['The final empire',\n",
       " 'The well of ascension',\n",
       " 'The hero of ages',\n",
       " 'Steelheart',\n",
       " 'Legion',\n",
       " 'Mitosis',\n",
       " 'Firefight',\n",
       " 'Calamity',\n",
       " 'Way of the kings',\n",
       " 'word of radianceOathbringer',\n",
       " 'The rythm of war',\n",
       " 'Warbreaker',\n",
       " 'The Rithmatist',\n",
       " 'legion: SKin deep',\n",
       " 'Elanris',\n",
       " 'White send',\n",
       " 'Firstbond',\n",
       " ['apple', 'pineapple', 'oranges'],\n",
       " 'The states',\n",
       " 'The white tigers',\n",
       " 'The twilight Saga : The new moon']"
      ]
     },
     "execution_count": 79,
     "metadata": {},
     "output_type": "execute_result"
    }
   ],
   "source": [
    "books"
   ]
  },
  {
   "cell_type": "code",
   "execution_count": 80,
   "metadata": {},
   "outputs": [],
   "source": [
    "books.extend([1,2,3])\n"
   ]
  },
  {
   "cell_type": "code",
   "execution_count": 81,
   "metadata": {},
   "outputs": [
    {
     "data": {
      "text/plain": [
       "['The final empire',\n",
       " 'The well of ascension',\n",
       " 'The hero of ages',\n",
       " 'Steelheart',\n",
       " 'Legion',\n",
       " 'Mitosis',\n",
       " 'Firefight',\n",
       " 'Calamity',\n",
       " 'Way of the kings',\n",
       " 'word of radianceOathbringer',\n",
       " 'The rythm of war',\n",
       " 'Warbreaker',\n",
       " 'The Rithmatist',\n",
       " 'legion: SKin deep',\n",
       " 'Elanris',\n",
       " 'White send',\n",
       " 'Firstbond',\n",
       " ['apple', 'pineapple', 'oranges'],\n",
       " 'The states',\n",
       " 'The white tigers',\n",
       " 'The twilight Saga : The new moon',\n",
       " 1,\n",
       " 2,\n",
       " 3]"
      ]
     },
     "execution_count": 81,
     "metadata": {},
     "output_type": "execute_result"
    }
   ],
   "source": [
    "books"
   ]
  },
  {
   "cell_type": "code",
   "execution_count": 88,
   "metadata": {},
   "outputs": [
    {
     "name": "stdout",
     "output_type": "stream",
     "text": [
      "NOT FOUND\n"
     ]
    }
   ],
   "source": [
    "remove_val='The states'\n",
    "if remove_val in books:\n",
    "    books.remove(remove_val)\n",
    "else:\n",
    "    print('NOT FOUND')"
   ]
  },
  {
   "cell_type": "code",
   "execution_count": 89,
   "metadata": {},
   "outputs": [
    {
     "data": {
      "text/plain": [
       "2"
      ]
     },
     "execution_count": 89,
     "metadata": {},
     "output_type": "execute_result"
    }
   ],
   "source": [
    "books.pop(-2)"
   ]
  },
  {
   "cell_type": "code",
   "execution_count": 90,
   "metadata": {},
   "outputs": [
    {
     "data": {
      "text/plain": [
       "['The final empire',\n",
       " 'The well of ascension',\n",
       " 'The hero of ages',\n",
       " 'Steelheart',\n",
       " 'Legion',\n",
       " 'Mitosis',\n",
       " 'Firefight',\n",
       " 'Calamity',\n",
       " 'Way of the kings',\n",
       " 'word of radianceOathbringer',\n",
       " 'The rythm of war',\n",
       " 'Warbreaker',\n",
       " 'The Rithmatist',\n",
       " 'legion: SKin deep',\n",
       " 'Elanris',\n",
       " 'White send',\n",
       " 'Firstbond',\n",
       " ['apple', 'pineapple', 'oranges'],\n",
       " 'The twilight Saga : The new moon',\n",
       " 1,\n",
       " 3]"
      ]
     },
     "execution_count": 90,
     "metadata": {},
     "output_type": "execute_result"
    }
   ],
   "source": [
    "books"
   ]
  },
  {
   "cell_type": "code",
   "execution_count": null,
   "metadata": {},
   "outputs": [],
   "source": []
  }
 ],
 "metadata": {
  "kernelspec": {
   "display_name": "Python 3.9.12 ('base')",
   "language": "python",
   "name": "python3"
  },
  "language_info": {
   "codemirror_mode": {
    "name": "ipython",
    "version": 3
   },
   "file_extension": ".py",
   "mimetype": "text/x-python",
   "name": "python",
   "nbconvert_exporter": "python",
   "pygments_lexer": "ipython3",
   "version": "3.9.12"
  },
  "orig_nbformat": 4,
  "vscode": {
   "interpreter": {
    "hash": "cf1d1df4f5e6daf533c44fe492b7c8add0dff96490123c28c0cad0a988bb7769"
   }
  }
 },
 "nbformat": 4,
 "nbformat_minor": 2
}
